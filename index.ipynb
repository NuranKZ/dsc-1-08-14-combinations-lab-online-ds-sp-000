{
 "cells": [
  {
   "cell_type": "markdown",
   "metadata": {
    "toc": true
   },
   "source": [
    "<h1>Table of Contents<span class=\"tocSkip\"></span></h1>\n",
    "<div class=\"toc\"><ul class=\"toc-item\"><li><span><a href=\"#Introduction\" data-toc-modified-id=\"Introduction-1\"><span class=\"toc-item-num\">1&nbsp;&nbsp;</span>Introduction</a></span></li><li><span><a href=\"#Learning-objectives\" data-toc-modified-id=\"Learning-objectives-2\"><span class=\"toc-item-num\">2&nbsp;&nbsp;</span>Learning objectives</a></span></li><li><span><a href=\"#Let's-get-started\" data-toc-modified-id=\"Let's-get-started-3\"><span class=\"toc-item-num\">3&nbsp;&nbsp;</span>Let's get started</a></span></li><li><span><a href=\"#Permutations-or-Combinations?\" data-toc-modified-id=\"Permutations-or-Combinations?-4\"><span class=\"toc-item-num\">4&nbsp;&nbsp;</span>Permutations or Combinations?</a></span><ul class=\"toc-item\"><li><ul class=\"toc-item\"><li><span><a href=\"#a.-Imagine-flatiron-school-is-giving-out-bronze,-silver-and-gold-medal-respectively.-How-many-possible-ways-are-there-to-create-this-top-three?\" data-toc-modified-id=\"a.-Imagine-flatiron-school-is-giving-out-bronze,-silver-and-gold-medal-respectively.-How-many-possible-ways-are-there-to-create-this-top-three?-4.0.1\"><span class=\"toc-item-num\">4.0.1&nbsp;&nbsp;</span>a. Imagine flatiron school is giving out bronze, silver and gold medal respectively. How many possible ways are there to create this top three?</a></span></li><li><span><a href=\"#b.-Imagine-Flatiron-school-granting-the-first-three-contestants-a-massive-fruit-basket.-How-many-ways-of-selecting-three-people-are-there-in-this-case?\" data-toc-modified-id=\"b.-Imagine-Flatiron-school-granting-the-first-three-contestants-a-massive-fruit-basket.-How-many-ways-of-selecting-three-people-are-there-in-this-case?-4.0.2\"><span class=\"toc-item-num\">4.0.2&nbsp;&nbsp;</span>b. Imagine Flatiron school granting the first three contestants a massive fruit basket. How many ways of selecting three people are there in this case?</a></span></li></ul></li></ul></li><li><span><a href=\"#Some-more-combinations-practice\" data-toc-modified-id=\"Some-more-combinations-practice-5\"><span class=\"toc-item-num\">5&nbsp;&nbsp;</span>Some more combinations practice</a></span><ul class=\"toc-item\"><li><ul class=\"toc-item\"><li><span><a href=\"#a.-What-is-the-probability-that-you-draw-exactly-2-consonants-and-3-vowels-when-drawing-5-letters?\" data-toc-modified-id=\"a.-What-is-the-probability-that-you-draw-exactly-2-consonants-and-3-vowels-when-drawing-5-letters?-5.0.1\"><span class=\"toc-item-num\">5.0.1&nbsp;&nbsp;</span>a. What is the probability that you draw exactly 2 consonants and 3 vowels when drawing 5 letters?</a></span></li><li><span><a href=\"#b.-Out-of-6-consonants-and-4-vowels,-how-many-words-with-2-consonants-and-3-vowels-can-be-formed?\" data-toc-modified-id=\"b.-Out-of-6-consonants-and-4-vowels,-how-many-words-with-2-consonants-and-3-vowels-can-be-formed?-5.0.2\"><span class=\"toc-item-num\">5.0.2&nbsp;&nbsp;</span>b. Out of 6 consonants and 4 vowels, how many words with 2 consonants and 3 vowels can be formed?</a></span></li></ul></li></ul></li><li><span><a href=\"#Combinations:-creating-soccer-teams\" data-toc-modified-id=\"Combinations:-creating-soccer-teams-6\"><span class=\"toc-item-num\">6&nbsp;&nbsp;</span>Combinations: creating soccer teams</a></span></li><li><span><a href=\"#Summary\" data-toc-modified-id=\"Summary-7\"><span class=\"toc-item-num\">7&nbsp;&nbsp;</span>Summary</a></span></li></ul></div>"
   ]
  },
  {
   "cell_type": "markdown",
   "metadata": {},
   "source": [
    "# Combinations - Lab"
   ]
  },
  {
   "cell_type": "markdown",
   "metadata": {},
   "source": [
    "## Introduction"
   ]
  },
  {
   "cell_type": "markdown",
   "metadata": {},
   "source": [
    "Now, let's dive into combinations. In the previous lab, we saw how the order was important. Cracking a code is one example, but what if the order doesn't matter, for example, when an engaged couple want to pick 3 wedding cakes from a list of 15? You'll need to use another technique here, and this is where combinations come in handy!"
   ]
  },
  {
   "cell_type": "markdown",
   "metadata": {},
   "source": [
    "## Learning objectives"
   ]
  },
  {
   "cell_type": "markdown",
   "metadata": {},
   "source": [
    "You will be able to: \n",
    "\n",
    "- Practice how to use combinations when the order is not important\n",
    "- Create (easy) functions for combinations and permutations"
   ]
  },
  {
   "cell_type": "markdown",
   "metadata": {},
   "source": [
    "## Let's get started"
   ]
  },
  {
   "cell_type": "markdown",
   "metadata": {},
   "source": [
    "From the previous lab, you remember that we created a factorial function like this.\n",
    "\n",
    "Now, let's use this factorial function to create a function `combination` as well as `permutation`, both holding 2 arguments n and k."
   ]
  },
  {
   "cell_type": "code",
   "execution_count": 1,
   "metadata": {},
   "outputs": [],
   "source": [
    "def factorial(n):\n",
    "    prod = 1\n",
    "    while n >= 1:\n",
    "        prod = prod * n\n",
    "        n = n - 1\n",
    "    return prod"
   ]
  },
  {
   "cell_type": "code",
   "execution_count": 2,
   "metadata": {},
   "outputs": [],
   "source": [
    "def permutation(n,k):\n",
    "    return factorial(n)/factorial(n-k)"
   ]
  },
  {
   "cell_type": "code",
   "execution_count": 3,
   "metadata": {},
   "outputs": [],
   "source": [
    "def combination(n,k):\n",
    "    return permutation(n,k)/factorial(k)"
   ]
  },
  {
   "cell_type": "markdown",
   "metadata": {},
   "source": [
    "Great! We can use these functions in the following exercises."
   ]
  },
  {
   "cell_type": "markdown",
   "metadata": {},
   "source": [
    "## Permutations or Combinations?"
   ]
  },
  {
   "cell_type": "markdown",
   "metadata": {},
   "source": [
    "Flatiron School is holding a mini mathematics contest, and there are 9 people in the last round. "
   ]
  },
  {
   "cell_type": "markdown",
   "metadata": {},
   "source": [
    "#### a. Imagine flatiron school is giving out bronze, silver and gold medal respectively. How many possible ways are there to create this top three?"
   ]
  },
  {
   "cell_type": "code",
   "execution_count": 10,
   "metadata": {},
   "outputs": [
    {
     "data": {
      "text/plain": [
       "504.0"
      ]
     },
     "execution_count": 10,
     "metadata": {},
     "output_type": "execute_result"
    }
   ],
   "source": [
    "medal_top_3 = permutation(9,3)\n",
    "medal_top_3"
   ]
  },
  {
   "cell_type": "markdown",
   "metadata": {},
   "source": [
    "#### b. Imagine Flatiron school granting the first three contestants a massive fruit basket. How many ways of selecting three people are there in this case?"
   ]
  },
  {
   "cell_type": "code",
   "execution_count": 11,
   "metadata": {},
   "outputs": [
    {
     "data": {
      "text/plain": [
       "84.0"
      ]
     },
     "execution_count": 11,
     "metadata": {},
     "output_type": "execute_result"
    }
   ],
   "source": [
    "scholarship_top_3 = combination(9,3)\n",
    "scholarship_top_3"
   ]
  },
  {
   "cell_type": "markdown",
   "metadata": {},
   "source": [
    "## Some more combinations practice"
   ]
  },
  {
   "cell_type": "markdown",
   "metadata": {},
   "source": [
    "Imagine you have 6 consonants and 4 vowels witten on a pieces of paper in a bag. You'll draw 5 letters out of the bag. "
   ]
  },
  {
   "cell_type": "markdown",
   "metadata": {},
   "source": [
    "#### a. What is the probability that you draw exactly 2 consonants and 3 vowels when drawing 5 letters?"
   ]
  },
  {
   "cell_type": "markdown",
   "metadata": {},
   "source": [
    "Write the code for getting total number of ways of drawing 2 out of 6 and 3 out of 4 below"
   ]
  },
  {
   "cell_type": "code",
   "execution_count": 12,
   "metadata": {},
   "outputs": [],
   "source": [
    "draw_cons = combination(6,2)\n",
    "draw_vow = combination(4,3)"
   ]
  },
  {
   "cell_type": "markdown",
   "metadata": {},
   "source": [
    "The total number of ways to draw 5 letters out of 10 letters."
   ]
  },
  {
   "cell_type": "code",
   "execution_count": 13,
   "metadata": {},
   "outputs": [],
   "source": [
    "sample = combination(10,5)"
   ]
  },
  {
   "cell_type": "markdown",
   "metadata": {},
   "source": [
    "The probability of drawing 2 consonants and 3 vowels when drawing 5 letters:"
   ]
  },
  {
   "cell_type": "code",
   "execution_count": 14,
   "metadata": {},
   "outputs": [
    {
     "data": {
      "text/plain": [
       "0.23809523809523808"
      ]
     },
     "execution_count": 14,
     "metadata": {},
     "output_type": "execute_result"
    }
   ],
   "source": [
    "draw_cons*draw_vow/sample"
   ]
  },
  {
   "cell_type": "markdown",
   "metadata": {},
   "source": [
    "#### b. Out of 6 consonants and 4 vowels, how many words with 2 consonants and 3 vowels can be formed?"
   ]
  },
  {
   "cell_type": "markdown",
   "metadata": {},
   "source": [
    "You can reuse a part of the previous exercise. Which part? print the result below."
   ]
  },
  {
   "cell_type": "code",
   "execution_count": 15,
   "metadata": {},
   "outputs": [],
   "source": [
    "draw_cons = combination(6,2)\n",
    "draw_vow = combination(4,3)"
   ]
  },
  {
   "cell_type": "markdown",
   "metadata": {},
   "source": [
    "Now we need to take into account that order is important."
   ]
  },
  {
   "cell_type": "code",
   "execution_count": 16,
   "metadata": {},
   "outputs": [],
   "source": [
    "order_5_letters = factorial(5)"
   ]
  },
  {
   "cell_type": "markdown",
   "metadata": {},
   "source": [
    "The total number of words with 2 consonants and 3 vowels then equals:"
   ]
  },
  {
   "cell_type": "code",
   "execution_count": 17,
   "metadata": {},
   "outputs": [
    {
     "name": "stdout",
     "output_type": "stream",
     "text": [
      "In total, 7200.0 words with 2 consonants and 3 vowels can be formed from our existing letter pool.\n"
     ]
    }
   ],
   "source": [
    "total_words = draw_cons*draw_vow*order_5_letters\n",
    "print(\"In total,\",  total_words, \"words with 2 consonants and 3 vowels can be formed from our existing letter pool.\")"
   ]
  },
  {
   "cell_type": "markdown",
   "metadata": {},
   "source": [
    "## Combinations: creating soccer teams\n",
    "We're holding a mini soccer tournament and 16 people are participating. We'd like to form 4 teams of 4. How many ways are there to do this?"
   ]
  },
  {
   "cell_type": "code",
   "execution_count": 18,
   "metadata": {},
   "outputs": [],
   "source": [
    "first_team = combination(16,4)\n",
    "second_team = combination(12,4)\n",
    "third_team = combination(8,4)\n",
    "forth_team = combination(4,4)"
   ]
  },
  {
   "cell_type": "code",
   "execution_count": 20,
   "metadata": {},
   "outputs": [
    {
     "data": {
      "text/plain": [
       "2627625.0"
      ]
     },
     "execution_count": 20,
     "metadata": {},
     "output_type": "execute_result"
    }
   ],
   "source": [
    "total_comb = (first_team*second_team*third_team*forth_team)/factorial(4)  \n",
    "total_comb# the answer is 2627625.0"
   ]
  },
  {
   "cell_type": "markdown",
   "metadata": {},
   "source": [
    "## Summary"
   ]
  },
  {
   "cell_type": "markdown",
   "metadata": {},
   "source": [
    "In this lab, you got some practice on combinations! Congrats, combinations and permutations are the cornerstones of combinatorics, and you now know how to use them in various settings."
   ]
  }
 ],
 "metadata": {
  "kernelspec": {
   "display_name": "Python 3",
   "language": "python",
   "name": "python3"
  },
  "language_info": {
   "codemirror_mode": {
    "name": "ipython",
    "version": 3
   },
   "file_extension": ".py",
   "mimetype": "text/x-python",
   "name": "python",
   "nbconvert_exporter": "python",
   "pygments_lexer": "ipython3",
   "version": "3.6.6"
  },
  "toc": {
   "base_numbering": 1,
   "nav_menu": {},
   "number_sections": true,
   "sideBar": true,
   "skip_h1_title": true,
   "title_cell": "Table of Contents",
   "title_sidebar": "Contents",
   "toc_cell": true,
   "toc_position": {},
   "toc_section_display": true,
   "toc_window_display": false
  },
  "varInspector": {
   "cols": {
    "lenName": 16,
    "lenType": 16,
    "lenVar": 40
   },
   "kernels_config": {
    "python": {
     "delete_cmd_postfix": "",
     "delete_cmd_prefix": "del ",
     "library": "var_list.py",
     "varRefreshCmd": "print(var_dic_list())"
    },
    "r": {
     "delete_cmd_postfix": ") ",
     "delete_cmd_prefix": "rm(",
     "library": "var_list.r",
     "varRefreshCmd": "cat(var_dic_list()) "
    }
   },
   "types_to_exclude": [
    "module",
    "function",
    "builtin_function_or_method",
    "instance",
    "_Feature"
   ],
   "window_display": false
  }
 },
 "nbformat": 4,
 "nbformat_minor": 2
}
